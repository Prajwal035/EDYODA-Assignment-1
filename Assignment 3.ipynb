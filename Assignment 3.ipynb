{
 "cells": [
  {
   "cell_type": "code",
   "execution_count": 22,
   "id": "5b8543fd",
   "metadata": {},
   "outputs": [
    {
     "name": "stdout",
     "output_type": "stream",
     "text": [
      "Enter Tuple : \n",
      "(1,2,3,4)\n",
      "The sum of my_list is 10\n"
     ]
    }
   ],
   "source": [
    "# Write a Python function to sum all the numbers in a list.\n",
    "def sum_of_list(l):\n",
    "  total = 0\n",
    "  for val in l:\n",
    "    total = total + val\n",
    "  return total\n",
    "\n",
    "given=eval(input(\"Enter Tuple : \\n\"))\n",
    "my_list=list(give)\n",
    "print (\"The sum of my_list is\", sum_of_list(my_list))\n"
   ]
  },
  {
   "cell_type": "code",
   "execution_count": 18,
   "id": "9a37cfb7",
   "metadata": {},
   "outputs": [
    {
     "name": "stdout",
     "output_type": "stream",
     "text": [
      "enter the string:\n",
      "Prajwal\n",
      "Reverse string:\n",
      " lawjarP\n"
     ]
    }
   ],
   "source": [
    "#Write a Python program to reverse a string.\n",
    "\n",
    "def reverse(s):\n",
    "    return s[::-1]\n",
    "    \n",
    "string=input(\"enter the string:\\n\")\n",
    "print(\"Reverse string:\\n\",reverse(string))"
   ]
  },
  {
   "cell_type": "code",
   "execution_count": 19,
   "id": "9b8828cf",
   "metadata": {},
   "outputs": [
    {
     "name": "stdout",
     "output_type": "stream",
     "text": [
      "Enter the string: Prajwal\n",
      "No. of Upper case characters:  1\n",
      "No. of Lower case characters:  6\n"
     ]
    }
   ],
   "source": [
    "#Write a Python function that accepts a string and calculate the number of upper case letters and lower case letters.\n",
    "\n",
    "def upperlower(s):\n",
    "    d={\"upper\":0,\"lower\":0}\n",
    "    for i in s:\n",
    "        if i.isupper():\n",
    "            d[\"upper\"]+=1\n",
    "        elif i.islower():\n",
    "            d[\"lower\"]+=1\n",
    "        else:\n",
    "            pass\n",
    "    print(\"No. of Upper case characters: \",d[\"upper\"])\n",
    "    print(\"No. of Lower case characters: \",d[\"lower\"])    \n",
    "    \n",
    "string=input(\"Enter the string: \")\n",
    "upperlower(string)"
   ]
  },
  {
   "cell_type": "code",
   "execution_count": null,
   "id": "61e53c37",
   "metadata": {},
   "outputs": [],
   "source": []
  }
 ],
 "metadata": {
  "kernelspec": {
   "display_name": "Python 3 (ipykernel)",
   "language": "python",
   "name": "python3"
  },
  "language_info": {
   "codemirror_mode": {
    "name": "ipython",
    "version": 3
   },
   "file_extension": ".py",
   "mimetype": "text/x-python",
   "name": "python",
   "nbconvert_exporter": "python",
   "pygments_lexer": "ipython3",
   "version": "3.10.9"
  }
 },
 "nbformat": 4,
 "nbformat_minor": 5
}
