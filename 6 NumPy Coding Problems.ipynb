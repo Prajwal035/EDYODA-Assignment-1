{
 "cells": [
  {
   "cell_type": "code",
   "execution_count": 1,
   "id": "3677bff2",
   "metadata": {},
   "outputs": [
    {
     "name": "stdout",
     "output_type": "stream",
     "text": [
      "[0. 0. 0. 0. 0. 0. 0. 0. 0. 0.]\n",
      "updating fifth value is 1 in vector\n",
      "[0. 0. 0. 0. 0. 1. 0. 0. 0. 0.]\n"
     ]
    }
   ],
   "source": [
    "# Create a null vector of size 10 but the fifth value which is 1.\n",
    "import numpy as np\n",
    "n=np.zeros(10)\n",
    "print(n)\n",
    "print(\"updating fifth value is 1 in vector\")\n",
    "n[5]=1\n",
    "print(n)"
   ]
  },
  {
   "cell_type": "code",
   "execution_count": 2,
   "id": "2dc905c3",
   "metadata": {},
   "outputs": [
    {
     "name": "stdout",
     "output_type": "stream",
     "text": [
      "[10 11 12 13 14 15 16 17 18 19 20 21 22 23 24 25 26 27 28 29 30 31 32 33\n",
      " 34 35 36 37 38 39 40 41 42 43 44 45 46 47 48 49]\n"
     ]
    }
   ],
   "source": [
    "#Create a vector with values ranging from 10 to 49.\n",
    "x=np.arange(10,50)\n",
    "print(x)"
   ]
  },
  {
   "cell_type": "code",
   "execution_count": 3,
   "id": "6c383ae1",
   "metadata": {},
   "outputs": [
    {
     "name": "stdout",
     "output_type": "stream",
     "text": [
      "[[0 1 2]\n",
      " [3 4 5]\n",
      " [6 7 8]]\n"
     ]
    }
   ],
   "source": [
    "#Create a 3x3 matrix with values ranging from 0 to 8\n",
    "b=np.arange(0,9).reshape(3,3)\n",
    "print(b)"
   ]
  },
  {
   "cell_type": "code",
   "execution_count": 5,
   "id": "74fa2d45",
   "metadata": {},
   "outputs": [
    {
     "name": "stdout",
     "output_type": "stream",
     "text": [
      "(array([0, 1, 4], dtype=int64),)\n"
     ]
    }
   ],
   "source": [
    "#Find indices of non-zero elements from [1,2,0,0,4,0]\n",
    "arr=[1,2,0,0,4,0]\n",
    "arr1=np.nonzero(arr)\n",
    "print(arr1)"
   ]
  },
  {
   "cell_type": "code",
   "execution_count": 7,
   "id": "95e8df1b",
   "metadata": {},
   "outputs": [
    {
     "name": "stdout",
     "output_type": "stream",
     "text": [
      "Array\n",
      "[[0.24091711 0.12881863 0.89467877 0.86334437 0.2620035  0.62231063\n",
      "  0.12261198 0.78296599 0.0636229  0.98143613]\n",
      " [0.38038514 0.72229605 0.71252325 0.35198377 0.32865069 0.49511727\n",
      "  0.75143283 0.40231524 0.44168827 0.95665047]\n",
      " [0.34047935 0.88611157 0.07159259 0.40466341 0.5943463  0.74517058\n",
      "  0.26174608 0.97481429 0.38432395 0.70252678]\n",
      " [0.29489707 0.01129751 0.83622353 0.42734636 0.11488719 0.19351509\n",
      "  0.11560654 0.17993112 0.78523949 0.58704068]\n",
      " [0.86482574 0.31077861 0.80159959 0.4009491  0.57834194 0.86844362\n",
      "  0.96096001 0.84080987 0.62382788 0.00141785]\n",
      " [0.52615327 0.65751181 0.04179283 0.96598307 0.52871334 0.08178467\n",
      "  0.99230939 0.79630414 0.65457506 0.35812747]\n",
      " [0.44185006 0.82505685 0.43438862 0.78527192 0.56409546 0.99810915\n",
      "  0.94278335 0.1558491  0.09495055 0.31703027]\n",
      " [0.55068362 0.38539536 0.41355174 0.48340779 0.07023921 0.13688618\n",
      "  0.14825068 0.05291306 0.3045928  0.70116478]\n",
      " [0.12614134 0.21387143 0.69033038 0.5522974  0.56381284 0.40888485\n",
      "  0.76338236 0.51931255 0.20743533 0.01174762]\n",
      " [0.78903012 0.45930731 0.48079153 0.96640775 0.88867512 0.29245157\n",
      "  0.77596578 0.79145571 0.78598772 0.48423595]]\n",
      "0.9981091482371598 0.0014178495626208099\n"
     ]
    }
   ],
   "source": [
    "#Create a 10x10 array with random values and find the minimum and maximum values.\n",
    "arr3=np.random.random((10,10))\n",
    "print(\"Array\")\n",
    "print(arr3)\n",
    "amax,amin= arr3.max(),arr3.min()\n",
    "print(amax,amin)\n"
   ]
  },
  {
   "cell_type": "code",
   "execution_count": 9,
   "id": "a082a583",
   "metadata": {},
   "outputs": [
    {
     "name": "stdout",
     "output_type": "stream",
     "text": [
      "[0.24033184 0.05601941 0.66043981 0.87771982 0.48754614 0.13322583\n",
      " 0.2525266  0.50259722 0.35860017 0.11696201]\n",
      "mean =  0.36859688562966525\n"
     ]
    }
   ],
   "source": [
    "#Create a random vector of size 30 and\n",
    "arr4=np.random.random(10)\n",
    "print(arr4)\n",
    "a=np.mean(arr4)\n",
    "print(\"mean = \",a)\n"
   ]
  },
  {
   "cell_type": "code",
   "execution_count": null,
   "id": "c95daa1c",
   "metadata": {},
   "outputs": [],
   "source": []
  }
 ],
 "metadata": {
  "kernelspec": {
   "display_name": "Python 3 (ipykernel)",
   "language": "python",
   "name": "python3"
  },
  "language_info": {
   "codemirror_mode": {
    "name": "ipython",
    "version": 3
   },
   "file_extension": ".py",
   "mimetype": "text/x-python",
   "name": "python",
   "nbconvert_exporter": "python",
   "pygments_lexer": "ipython3",
   "version": "3.10.9"
  }
 },
 "nbformat": 4,
 "nbformat_minor": 5
}
