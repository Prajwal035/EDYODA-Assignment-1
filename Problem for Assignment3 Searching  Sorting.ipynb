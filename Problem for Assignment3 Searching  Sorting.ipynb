{
 "cells": [
  {
   "cell_type": "code",
   "execution_count": 1,
   "id": "2dd28b1e",
   "metadata": {},
   "outputs": [
    {
     "name": "stdout",
     "output_type": "stream",
     "text": [
      "Element is present at index 3\n"
     ]
    }
   ],
   "source": [
    "#Implement Binary Search\n",
    "def binary_search(arr, low, high, x):\n",
    "    if high >= low:\n",
    "        mid = (high + low) // 2\n",
    "        if arr[mid] == x:\n",
    "            return mid\n",
    "        elif arr[mid] > x:\n",
    "            return binary_search(arr, low, mid - 1, x)\n",
    "        else:\n",
    "            return binary_search(arr, mid + 1, high, x)\n",
    " \n",
    "    else:\n",
    "        return -1\n",
    " \n",
    "# Test array\n",
    "arr = [ 2, 3, 4, 10, 40 ]\n",
    "x = 10\n",
    " \n",
    "result = binary_search(arr, 0, len(arr)-1, x)\n",
    " \n",
    "if result != -1:\n",
    "    print(\"Element is present at index\", str(result))\n",
    "else:\n",
    "    print(\"Element is not present in array\")"
   ]
  },
  {
   "cell_type": "code",
   "execution_count": 2,
   "id": "182bb6e3",
   "metadata": {},
   "outputs": [
    {
     "name": "stdout",
     "output_type": "stream",
     "text": [
      "Given array is\n",
      "12 11 13 5 6 7 \n",
      "\n",
      "Sorted array is\n",
      "5 6 7 11 12 13 "
     ]
    }
   ],
   "source": [
    "#Implement Merge Sort\n",
    "def merge(arr, l, m, r):\n",
    "    n1 = m - l + 1\n",
    "    n2 = r - m\n",
    "    L = [0] * (n1)\n",
    "    R = [0] * (n2)\n",
    " \n",
    "    for i in range(0, n1):\n",
    "        L[i] = arr[l + i]\n",
    " \n",
    "    for j in range(0, n2):\n",
    "        R[j] = arr[m + 1 + j]\n",
    " \n",
    "    i = 0     \n",
    "    j = 0     \n",
    "    k = l    \n",
    " \n",
    "    while i < n1 and j < n2:\n",
    "        if L[i] <= R[j]:\n",
    "            arr[k] = L[i]\n",
    "            i += 1\n",
    "        else:\n",
    "            arr[k] = R[j]\n",
    "            j += 1\n",
    "        k += 1\n",
    "\n",
    "    while i < n1:\n",
    "        arr[k] = L[i]\n",
    "        i += 1\n",
    "        k += 1\n",
    "    while j < n2:\n",
    "        arr[k] = R[j]\n",
    "        j += 1\n",
    "        k += 1\n",
    " \n",
    " \n",
    "def mergeSort(arr, l, r):\n",
    "    if l < r:\n",
    "\n",
    "        m = l+(r-l)//2\n",
    "        mergeSort(arr, l, m)\n",
    "        mergeSort(arr, m+1, r)\n",
    "        merge(arr, l, m, r)\n",
    "arr = [12, 11, 13, 5, 6, 7]\n",
    "n = len(arr)\n",
    "print(\"Given array is\")\n",
    "for i in range(n):\n",
    "    print(\"%d\" % arr[i],end=\" \")\n",
    "mergeSort(arr, 0, n-1)\n",
    "print(\"\\n\\nSorted array is\")\n",
    "for i in range(n):\n",
    "    print(\"%d\" % arr[i],end=\" \")"
   ]
  },
  {
   "cell_type": "code",
   "execution_count": 3,
   "id": "d3594c92",
   "metadata": {},
   "outputs": [
    {
     "name": "stdout",
     "output_type": "stream",
     "text": [
      "Original Array:  [4, 2, 7, 3, 1, 6]\n",
      "Sorted Array:  [1, 2, 3, 4, 6, 7]\n"
     ]
    }
   ],
   "source": [
    "#Implement Quick Sort\n",
    "def QuickSort(arr):\n",
    "\n",
    "    elements = len(arr)\n",
    "    \n",
    "    if elements < 2:\n",
    "        return arr\n",
    "    \n",
    "    current_position = 0 \n",
    "\n",
    "    for i in range(1, elements): #\n",
    "         if arr[i] <= arr[0]:\n",
    "              current_position += 1\n",
    "              temp = arr[i]\n",
    "              arr[i] = arr[current_position]\n",
    "              arr[current_position] = temp\n",
    "\n",
    "    temp = arr[0]\n",
    "    arr[0] = arr[current_position] \n",
    "    arr[current_position] = temp \n",
    "    \n",
    "    left = QuickSort(arr[0:current_position]) \n",
    "    right = QuickSort(arr[current_position+1:elements]) \n",
    "\n",
    "    arr = left + [arr[current_position]] + right \n",
    "    \n",
    "    return arr\n",
    "\n",
    "\n",
    "\n",
    "array_to_be_sorted = [4,2,7,3,1,6]\n",
    "print(\"Original Array: \",array_to_be_sorted)\n",
    "print(\"Sorted Array: \",QuickSort(array_to_be_sorted))"
   ]
  },
  {
   "cell_type": "code",
   "execution_count": 4,
   "id": "5dac5d21",
   "metadata": {},
   "outputs": [
    {
     "name": "stdout",
     "output_type": "stream",
     "text": [
      "The unsorted list is: [10, 5, 13, 8, 2]\n",
      "The sorted list1 is: [2, 5, 8, 10, 13]\n"
     ]
    }
   ],
   "source": [
    "#Implement Insertion Sort\n",
    "def insertion_sort(list1):  \n",
    "        for i in range(1, len(list1)):  \n",
    "  \n",
    "            value = list1[i]  \n",
    "            j = i - 1  \n",
    "            while j >= 0 and value < list1[j]:  \n",
    "                list1[j + 1] = list1[j]  \n",
    "                j -= 1  \n",
    "            list1[j + 1] = value  \n",
    "        return list1   \n",
    "list1 = [10, 5, 13, 8, 2]  \n",
    "print(\"The unsorted list is:\", list1)  \n",
    "  \n",
    "print(\"The sorted list1 is:\", insertion_sort(list1)) "
   ]
  },
  {
   "cell_type": "code",
   "execution_count": null,
   "id": "0e216dc0",
   "metadata": {},
   "outputs": [],
   "source": [
    "\n",
    "lst = ['gfg', 'is', 'a', 'portal', 'for', 'geeks']\n",
    " \n",
    "lst.sort()\n",
    " \n",
    "print(lst)"
   ]
  }
 ],
 "metadata": {
  "kernelspec": {
   "display_name": "Python 3 (ipykernel)",
   "language": "python",
   "name": "python3"
  },
  "language_info": {
   "codemirror_mode": {
    "name": "ipython",
    "version": 3
   },
   "file_extension": ".py",
   "mimetype": "text/x-python",
   "name": "python",
   "nbconvert_exporter": "python",
   "pygments_lexer": "ipython3",
   "version": "3.10.9"
  }
 },
 "nbformat": 4,
 "nbformat_minor": 5
}
