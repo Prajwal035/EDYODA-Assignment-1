{
 "cells": [
  {
   "cell_type": "code",
   "execution_count": 4,
   "id": "e0ae05ca",
   "metadata": {},
   "outputs": [
    {
     "name": "stdout",
     "output_type": "stream",
     "text": [
      "Sum of Square of given number is : 35\n"
     ]
    }
   ],
   "source": [
    "#Challenge 1: Square Numbers and Return Their Sum\n",
    "class Point:\n",
    "\n",
    "    def __init__(self,x,y,z):\n",
    "        self.x = x\n",
    "        self.y = y\n",
    "        self.z = z\n",
    "\n",
    "    def sqSum(self):\n",
    "        return self.x**2+self.y**2+self.z**2\n",
    "\n",
    "y=Point(1,3,5)\n",
    "sum=y.sqSum()\n",
    "print(\"Sum of Square of given number is :\", str(sum))"
   ]
  },
  {
   "cell_type": "code",
   "execution_count": 12,
   "id": "d459fef6",
   "metadata": {},
   "outputs": [
    {
     "name": "stdout",
     "output_type": "stream",
     "text": [
      "104\n",
      "84\n",
      "940\n",
      "9.4\n"
     ]
    }
   ],
   "source": [
    "#Challenge 2: Implement a Calculator Class\n",
    "\n",
    "class Calculator:\n",
    "    def __init__(self,num1,num2):\n",
    "        self.num1=num1\n",
    "        self.num2=num2\n",
    "    \n",
    "    def add(self):\n",
    "        return self.num1+self.num2\n",
    "    \n",
    "    def subtract(self):\n",
    "        return self.num2-self.num1\n",
    "    \n",
    "    def multiply(self):\n",
    "        return self.num1*self.num2\n",
    "    \n",
    "    def divide(self):\n",
    "        return self.num2/self.num1\n",
    "\n",
    "obj = Calculator(10, 94)\n",
    "print(obj.add())\n",
    "print(obj.subtract())\n",
    "print(obj.multiply())\n",
    "print(obj.divide())"
   ]
  },
  {
   "cell_type": "code",
   "execution_count": 21,
   "id": "81d91fee",
   "metadata": {},
   "outputs": [
    {
     "name": "stdout",
     "output_type": "stream",
     "text": [
      "Prajwal\n",
      "21\n"
     ]
    }
   ],
   "source": [
    "#Challenge 3: Implement the Complete Student Class\n",
    "class Student:\n",
    "    \n",
    "    __name=\"\"\n",
    "    __rollnumber=0\n",
    "\n",
    "    def setName(self,name):\n",
    "        self.name=name\n",
    "    def getName(self):\n",
    "        return self.name\n",
    "    def setRollNumber(self,num):\n",
    "        self.rollnumber=num\n",
    "    def getRollNumber(self):\n",
    "        return self.rollnumber\n",
    "\n",
    "obj=Student()\n",
    "obj.setName(\"Prajwal\")\n",
    "print(obj.getName())\n",
    "obj.setRollNumber(21)\n",
    "print(obj.getRollNumber())"
   ]
  },
  {
   "cell_type": "code",
   "execution_count": 24,
   "id": "1b051881",
   "metadata": {},
   "outputs": [
    {
     "data": {
      "text/plain": [
       "<__main__.SavingsAccount at 0x1ed7602b8e0>"
      ]
     },
     "execution_count": 24,
     "metadata": {},
     "output_type": "execute_result"
    }
   ],
   "source": [
    "#Challenge 4: Implement a Banking Account\n",
    "class Account:\n",
    "\n",
    "    def __init__(self,title=None,Balance=0):\n",
    "        self.title=title\n",
    "        self.Balance=Balance\n",
    "        \n",
    "\n",
    "class SavingsAccount(Account):\n",
    "\n",
    "    def __init__(self,title=None,Balance=0,rate=0):\n",
    "        super().__init__(title,Balance)\n",
    "        self.Intrestrate=rate\n",
    "        \n",
    "Account(\"Ashish\",5000)\n",
    "SavingsAccount(\"Ashish\",5000,5)"
   ]
  },
  {
   "cell_type": "code",
   "execution_count": 4,
   "id": "e876498a",
   "metadata": {},
   "outputs": [
    {
     "name": "stdout",
     "output_type": "stream",
     "text": [
      "Balance before withdraw 2000\n",
      "Balance After deposit 2500\n",
      "Balance After 2000\n",
      "2000\n",
      "Intrest amount of correct balance  100.0\n"
     ]
    }
   ],
   "source": [
    "#Challenge 5: Handling a Bank Account\n",
    "\n",
    "class Account:\n",
    "    def __init__(self, title=None, balance=0):\n",
    "        self.title = title\n",
    "        self.balance = balance\n",
    "    \n",
    "    def withdrawal(self, amount):\n",
    "        self.balance-=amount\n",
    "        \n",
    "\n",
    "    def deposit(self, amount):\n",
    "        self.balance+=amount\n",
    "        \n",
    "    def getBalance(self):\n",
    "        return self.balance\n",
    "\n",
    "class SavingsAccount(Account):\n",
    "    def __init__(self, title=None, balance=0, interestRate=0):\n",
    "            super().__init__(title, balance)\n",
    "            self.interestRate = interestRate\n",
    "    \n",
    "    def interestAmount(self):\n",
    "        print(self.balance)\n",
    "        return self.balance*(self.interestRate/100)\n",
    "        \n",
    "    \n",
    "\n",
    "demo1 = SavingsAccount(\"Ashish\", 2000, 5) # initializing a SavingsAccount object\n",
    "print(\"Balance before withdraw\",demo1.getBalance())\n",
    "demo1.deposit(500)\n",
    "print(\"Balance After deposit\",demo1.getBalance())\n",
    "demo1.withdrawal(500)\n",
    "print(\"Balance After\",demo1.getBalance())\n",
    "print(\"Intrest amount of correct balance \",demo1.interestAmount())"
   ]
  },
  {
   "cell_type": "code",
   "execution_count": null,
   "id": "4fa5ccd8",
   "metadata": {},
   "outputs": [],
   "source": []
  }
 ],
 "metadata": {
  "kernelspec": {
   "display_name": "Python 3 (ipykernel)",
   "language": "python",
   "name": "python3"
  },
  "language_info": {
   "codemirror_mode": {
    "name": "ipython",
    "version": 3
   },
   "file_extension": ".py",
   "mimetype": "text/x-python",
   "name": "python",
   "nbconvert_exporter": "python",
   "pygments_lexer": "ipython3",
   "version": "3.10.9"
  }
 },
 "nbformat": 4,
 "nbformat_minor": 5
}
