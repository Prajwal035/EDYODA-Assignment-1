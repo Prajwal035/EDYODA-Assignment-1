{
 "cells": [
  {
   "cell_type": "code",
   "execution_count": 4,
   "id": "e1ad1480",
   "metadata": {},
   "outputs": [
    {
     "name": "stdout",
     "output_type": "stream",
     "text": [
      "{'Name': 'Amit', 'DOB': '12/02/2002', 'Height': '5.6', 'City': 'bangalore', 'State': 'Karnataka'}\n",
      "{'Name': 'Prajwal', 'DOB': '11/02/2000', 'Height': '5.8', 'City': 'bangalore', 'State': 'Karnataka'}\n",
      "{'Name': 'Soura', 'DOB': '12/03/2006', 'Height': '5.2', 'City': 'bangalore', 'State': 'Karnataka'}\n",
      "{'Name': 'Anand', 'DOB': '02/02/1999', 'Height': '5.4', 'City': 'bangalore', 'State': 'Karnataka'}\n",
      "{'Name': 'Ambresh', 'DOB': '12/07/2004', 'Height': '5.6', 'City': 'bangalore', 'State': 'Karnataka'}\n"
     ]
    }
   ],
   "source": [
    "#Assignment 1\n",
    "#1. Create a JSON file (employee.json) containing employee information of minimum 5 employees. Each employee information \n",
    "#consists of Name, DOB, Height, City, State. Write a python program that reads this information from the \n",
    "#JSON file and saves the information into a list of objects of Employee class. Finally print the list of the Employee objects.\n",
    "\n",
    "\n",
    "\n",
    "import json\n",
    "  \n",
    "# Opening JSON file\n",
    "f = open('Employee.json',)\n",
    "  \n",
    "data = json.load(f)\n",
    "for i in data['employee']:\n",
    "    print(i)  \n",
    "  \n",
    "# Closing file\n",
    "f.close()"
   ]
  },
  {
   "cell_type": "code",
   "execution_count": 10,
   "id": "050af2ca",
   "metadata": {},
   "outputs": [
    {
     "name": "stdout",
     "output_type": "stream",
     "text": [
      "Json Completed\n"
     ]
    }
   ],
   "source": [
    "# 2. Create a dictionary of any 7 Indian states and their capitals. Write this into a JSON file.\n",
    "\n",
    "import json\n",
    "  \n",
    "# Data to be written\n",
    "dictionary ={\n",
    "  \"Karnataka\": \"Banagalore\",\n",
    "  \"Maharastra\": \"Goa\",\n",
    "  \"Tamil Nadu\": \"Chennai\",\n",
    "    \"Goa\":\"Panaji\",\n",
    "    \"Bihar\":\"Patna\",\n",
    "    \"Andra Pradhesh\": \"Hyderabad\",\n",
    "    \"Rajastan\":\"Chandigarh\"\n",
    "}\n",
    "  \n",
    "with open(\"dictionary.json\",\"w\") as f:\n",
    "    json.dump(dictionary,f)\n",
    "    print(\"Json Completed\")"
   ]
  },
  {
   "cell_type": "code",
   "execution_count": 16,
   "id": "0373eec3",
   "metadata": {},
   "outputs": [
    {
     "name": "stdout",
     "output_type": "stream",
     "text": [
      "Name of the dog is jack age is 12\n",
      "Name of the dog is King age is 10\n"
     ]
    }
   ],
   "source": [
    "#Assignment 2\n",
    "# 1. Create a class named ‘Dog’. It should have a constructor which accepts its name, age and coat color. \n",
    "#You must perform the following operations:\n",
    "#🔴 a. It should have a function ‘description()’ which prints the name and age of the dog.\n",
    "#🔴 b. It should have a function ‘get_info()’ which prints the coat color of the dog.1\n",
    "#🔴 c. Create child classes ‘JackRussellTerrier’ and ‘Bulldog’ which is inherited from the class ‘Dog’. \n",
    "#It should have at least two methods of its own.\n",
    "#🔴 d. Create objects and implement the above functionalities.\n",
    "\n",
    "class Dog:\n",
    "    def __init__(self,name,age,color):\n",
    "        self.name=name\n",
    "        self.age=age\n",
    "        self.color=color\n",
    "        \n",
    "    def discription(self):\n",
    "        print(\"Name of the dog is \"+str(self.name)+\" age is \"+str(self.age))\n",
    "    def get_info(self):\n",
    "        print(\"Color of coat dog is \"+str(self.color))\n",
    "class jackrussellterrier(Dog):\n",
    "    def __init___(self,name,age,color):\n",
    "        super().__init__(self,name,age,color)\n",
    "    def jackrussellname(self):\n",
    "        super().discription()\n",
    "    \n",
    "class bulldog(Dog):\n",
    "    def __init___(self,name,age,color):\n",
    "        super().__init__(self,name,age,color)\n",
    "    def bulldogname(self):\n",
    "        super().discription()\n",
    "\n",
    "x1=jackrussellterrier(\"jack\",12,\"brown\")\n",
    "x1.jackrussellname()\n",
    "x2=bulldog(\"King\",10,\"white\")\n",
    "x2.bulldogname()"
   ]
  },
  {
   "cell_type": "code",
   "execution_count": null,
   "id": "e10c6d47",
   "metadata": {},
   "outputs": [],
   "source": []
  }
 ],
 "metadata": {
  "kernelspec": {
   "display_name": "Python 3 (ipykernel)",
   "language": "python",
   "name": "python3"
  },
  "language_info": {
   "codemirror_mode": {
    "name": "ipython",
    "version": 3
   },
   "file_extension": ".py",
   "mimetype": "text/x-python",
   "name": "python",
   "nbconvert_exporter": "python",
   "pygments_lexer": "ipython3",
   "version": "3.10.9"
  }
 },
 "nbformat": 4,
 "nbformat_minor": 5
}
