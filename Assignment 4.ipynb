{
 "cells": [
  {
   "cell_type": "code",
   "execution_count": 2,
   "id": "7e21c377",
   "metadata": {},
   "outputs": [
    {
     "name": "stdout",
     "output_type": "stream",
     "text": [
      "Enter the number: 10\n",
      "35\n"
     ]
    }
   ],
   "source": [
    "#Write a Python program to create a lambda function that adds 25 to a given number passed in as an argument.\n",
    "arg=int(input(\"Enter the number: \"))\n",
    "r= lambda a: a+25\n",
    "print(r(arg))"
   ]
  },
  {
   "cell_type": "code",
   "execution_count": 4,
   "id": "a9250af8",
   "metadata": {},
   "outputs": [
    {
     "name": "stdout",
     "output_type": "stream",
     "text": [
      "[3, 6, 9, 12, 15, 18, 21]\n"
     ]
    }
   ],
   "source": [
    "#Write a Python program to triple all numbers of a given list of integers. Use Python map.\n",
    "nums=[1, 2, 3, 4, 5, 6, 7]\n",
    "result = map(lambda x: x + x + x, nums) \n",
    "print(list(result))"
   ]
  },
  {
   "cell_type": "code",
   "execution_count": 5,
   "id": "23cc7b83",
   "metadata": {},
   "outputs": [
    {
     "name": "stdout",
     "output_type": "stream",
     "text": [
      "[16, 25, 4, 81]\n"
     ]
    }
   ],
   "source": [
    "#Write a Python program to square the elements of a list using map() function.\n",
    "num=[4, 5, 2, 9]\n",
    "square=map(lambda x: x*x,num)\n",
    "print(list(square))"
   ]
  },
  {
   "cell_type": "code",
   "execution_count": null,
   "id": "71d01f58",
   "metadata": {},
   "outputs": [],
   "source": []
  }
 ],
 "metadata": {
  "kernelspec": {
   "display_name": "Python 3 (ipykernel)",
   "language": "python",
   "name": "python3"
  },
  "language_info": {
   "codemirror_mode": {
    "name": "ipython",
    "version": 3
   },
   "file_extension": ".py",
   "mimetype": "text/x-python",
   "name": "python",
   "nbconvert_exporter": "python",
   "pygments_lexer": "ipython3",
   "version": "3.10.9"
  }
 },
 "nbformat": 4,
 "nbformat_minor": 5
}
